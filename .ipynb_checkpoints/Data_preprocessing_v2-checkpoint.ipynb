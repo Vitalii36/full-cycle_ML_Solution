{
 "cells": [
  {
   "cell_type": "markdown",
   "metadata": {},
   "source": [
    "data processing and analysis"
   ]
  },
  {
   "cell_type": "code",
   "execution_count": 1,
   "metadata": {},
   "outputs": [],
   "source": [
    "import numpy as np\n",
    "import pandas as pd\n",
    "import matplotlib.pyplot as plt"
   ]
  },
  {
   "cell_type": "markdown",
   "metadata": {},
   "source": [
    "Open data, their processing and model selection"
   ]
  },
  {
   "cell_type": "code",
   "execution_count": 2,
   "metadata": {},
   "outputs": [],
   "source": [
    "train_full = pd.read_csv('Data/train.csv')\n",
    "test_2020 = pd.read_csv('Data/test.csv')"
   ]
  },
  {
   "cell_type": "code",
   "execution_count": 3,
   "metadata": {},
   "outputs": [
    {
     "data": {
      "text/plain": [
       "Index(['year', 'period', 'company_name', 'company_code', 'company_type',\n",
       "       'company_status', 'salary_debt_changes', 'salary_debt_mark',\n",
       "       'salary_average_changes', 'salary_average_mark',\n",
       "       'financial_outturn_sales_percent', 'financial_outturn_sales_mark',\n",
       "       'financial_outturn_profit_percent', 'financial_outturn_profit_mark',\n",
       "       'financial_outturn_revenue_to_budget_percent',\n",
       "       'financial_outturn_revenue_to_budget_mark',\n",
       "       'financial_outturn_revenue_to_state_shareholder_percent',\n",
       "       'financial_outturn_revenue_to_state_shareholder_mark',\n",
       "       'financial_outturn_capital_investments_percent',\n",
       "       'financial_outturn_capital_investments_mark', 'profit_changes',\n",
       "       'profit_mark', 'covering_coefficient_end', 'covering_coefficient_mark',\n",
       "       'firmness_coefficient_end', 'firmness_coefficient_mark',\n",
       "       'solvency_coefficient_end', 'solvency_coefficient_mark',\n",
       "       'amortization_end', 'amortization_mark', 'audition_result',\n",
       "       'audition_mark', 'total_mark', 'final_assessment'],\n",
       "      dtype='object')"
      ]
     },
     "execution_count": 3,
     "metadata": {},
     "output_type": "execute_result"
    }
   ],
   "source": [
    "train_full.columns"
   ]
  },
  {
   "cell_type": "code",
   "execution_count": 4,
   "metadata": {},
   "outputs": [],
   "source": [
    "def preprocessing(train_full):\n",
    "    \n",
    "    train_full['company_type'] = train_full['company_type'].fillna(0)\n",
    "    train_full['company_type'] = train_full['company_type'].replace(['ГТ(б50)', 'ДП'],[1,2])\n",
    "    \n",
    "    train_full['company_status'][train_full['company_status'].isnull()] = 0\n",
    "    train_full['company_status'][train_full['company_status'] != 0] = 1\n",
    "    \n",
    "    train_full['salary_debt_changes'] = train_full['salary_debt_changes'].fillna(66.89)\n",
    "    \n",
    "    train_full['salary_debt_mark'] = train_full['salary_debt_mark'].fillna(2.0)\n",
    "    \n",
    "    train_full['salary_average_changes'] = train_full['salary_average_changes'].fillna(115.19)\n",
    "    \n",
    "    train_full['salary_average_mark'] = train_full['salary_average_mark'].fillna(0)\n",
    "    \n",
    "    train_full['financial_outturn_sales_percent'] = train_full['financial_outturn_sales_percent'].fillna(87.96)\n",
    "    \n",
    "    train_full['financial_outturn_sales_percent'] = np.log(train_full['financial_outturn_sales_percent']+1)\n",
    "    \n",
    "    train_full['financial_outturn_sales_mark'] = train_full['financial_outturn_sales_mark'].fillna(1)\n",
    "    \n",
    "    train_full['financial_outturn_profit_percent'] = train_full['financial_outturn_profit_percent'].fillna(219.65)\n",
    "    \n",
    "    train_full['financial_outturn_profit_mark'] = train_full['financial_outturn_profit_mark'].fillna(1)\n",
    "    \n",
    "    train_full['financial_outturn_revenue_to_budget_percent'] = train_full['financial_outturn_revenue_to_budget_percent'].fillna(92.37)\n",
    "    \n",
    "    train_full['financial_outturn_revenue_to_budget_mark'] = train_full['financial_outturn_revenue_to_budget_mark'].fillna(1)\n",
    "    \n",
    "    train_full['financial_outturn_revenue_to_state_shareholder_percent'] = train_full['financial_outturn_revenue_to_state_shareholder_percent'].fillna(0)\n",
    "    \n",
    "    train_full['financial_outturn_revenue_to_state_shareholder_mark'] = train_full['financial_outturn_revenue_to_state_shareholder_mark'].fillna(0)\n",
    "    \n",
    "    train_full['financial_outturn_capital_investments_percent'] = train_full['financial_outturn_capital_investments_percent'].fillna(120.26)\n",
    "    \n",
    "    train_full['financial_outturn_capital_investments_mark'] = train_full['financial_outturn_capital_investments_mark'].fillna(0)\n",
    "    \n",
    "    train_full['profit_changes'] = np.log(train_full['profit_changes']+1)\n",
    "    \n",
    "    train_full['profit_changes'] = train_full['profit_changes'].fillna(0)\n",
    "    \n",
    "    train_full['profit_mark'] = train_full['profit_mark'].fillna(0)\n",
    "    \n",
    "    train_full['covering_coefficient_end'] = train_full['covering_coefficient_end'].fillna(15.99)\n",
    "    \n",
    "    train_full['covering_coefficient_mark'] = train_full['covering_coefficient_mark'].fillna(0)\n",
    "    \n",
    "    train_full['firmness_coefficient_end'] = np.log(train_full['firmness_coefficient_end'].fillna(6.96)+1)\n",
    "    \n",
    "    train_full['firmness_coefficient_end'] = train_full['firmness_coefficient_end'].fillna(0.5)\n",
    "    \n",
    "    train_full['firmness_coefficient_mark'] = train_full['firmness_coefficient_mark'].fillna(0)\n",
    "    \n",
    "    ls1 = []\n",
    "    for i in train_full['solvency_coefficient_end']:\n",
    "        try:\n",
    "            ls1.append(float(i))\n",
    "        except:\n",
    "            ls2, s = [], ''\n",
    "            for j in i:\n",
    "                if j == ',':\n",
    "                    ls2.append('.')\n",
    "                else:\n",
    "                    ls2.append(j)\n",
    "            for j in ls2:\n",
    "                s += j\n",
    "            ls1.append(float(s))\n",
    "\n",
    "    train_full['solvency_coefficient_end'] = np.array(ls1)       \n",
    "    \n",
    "    train_full['solvency_coefficient_end'] = train_full['solvency_coefficient_end'].fillna(0)\n",
    "    \n",
    "    train_full['solvency_coefficient_mark'] = train_full['solvency_coefficient_mark'].fillna(0)\n",
    "    \n",
    "    train_full['amortization_end'] = train_full['amortization_end'].fillna(69.1)\n",
    "    \n",
    "    train_full['amortization_mark'] = train_full['amortization_mark'].fillna(0)\n",
    "    \n",
    "    train_full['audition_result'] = train_full['audition_result'].fillna(0)\n",
    "    \n",
    "    train_full['audition_result'] = train_full['audition_result'].replace(['задовільний', 'позитивний', 'негативний'],[1, 2 ,0])\n",
    "    \n",
    "    train_full['audition_mark'] = train_full['audition_mark'].fillna(0)\n",
    "    \n",
    "    train_full['final_assessment'] = train_full['final_assessment'].replace(['ефективна', 'неефективна', 'задовільна'],[2, 0 ,1])\n",
    "    \n",
    "    train_full = train_full.drop(['company_name', 'company_code', 'company_status'], axis=1)\n",
    "    \n",
    "    return train_full"
   ]
  },
  {
   "cell_type": "code",
   "execution_count": 5,
   "metadata": {},
   "outputs": [
    {
     "name": "stderr",
     "output_type": "stream",
     "text": [
      "/home/vitalii/anaconda3/lib/python3.7/site-packages/ipykernel_launcher.py:6: SettingWithCopyWarning: \n",
      "A value is trying to be set on a copy of a slice from a DataFrame\n",
      "\n",
      "See the caveats in the documentation: https://pandas.pydata.org/pandas-docs/stable/user_guide/indexing.html#returning-a-view-versus-a-copy\n",
      "  \n",
      "/home/vitalii/anaconda3/lib/python3.7/site-packages/ipykernel_launcher.py:7: SettingWithCopyWarning: \n",
      "A value is trying to be set on a copy of a slice from a DataFrame\n",
      "\n",
      "See the caveats in the documentation: https://pandas.pydata.org/pandas-docs/stable/user_guide/indexing.html#returning-a-view-versus-a-copy\n",
      "  import sys\n",
      "/home/vitalii/anaconda3/lib/python3.7/site-packages/pandas/core/series.py:679: RuntimeWarning: invalid value encountered in log\n",
      "  result = getattr(ufunc, method)(*inputs, **kwargs)\n"
     ]
    }
   ],
   "source": [
    "train_X = preprocessing(train_full)\n",
    "\n",
    "test_X = preprocessing(test_2020)"
   ]
  },
  {
   "cell_type": "code",
   "execution_count": 6,
   "metadata": {},
   "outputs": [],
   "source": [
    "test_y = test_X['final_assessment']\n",
    "test_X = test_X.drop(['final_assessment'], axis = 1)\n",
    "\n",
    "train_y = train_X['final_assessment']\n",
    "train_X = train_X.drop(['final_assessment'], axis = 1)"
   ]
  },
  {
   "cell_type": "code",
   "execution_count": 7,
   "metadata": {},
   "outputs": [],
   "source": [
    "from sklearn.preprocessing import MinMaxScaler\n",
    "\n",
    "scaler = MinMaxScaler()\n",
    "scaler.fit(train_X)\n",
    "train_X = scaler.transform(train_X)\n",
    "\n",
    "scaler.fit(test_X)\n",
    "test_X = scaler.transform(test_X)"
   ]
  },
  {
   "cell_type": "code",
   "execution_count": 8,
   "metadata": {},
   "outputs": [
    {
     "name": "stdout",
     "output_type": "stream",
     "text": [
      "KNeighborsClassifier(n_neighbors=3) = [0.64705882 0.70588235 0.76470588 0.6875     0.8125    ]\n",
      "SVC(probability=True) = [0.82352941 0.94117647 0.88235294 0.9375     0.875     ]\n",
      "DecisionTreeClassifier() = [1. 1. 1. 1. 1.]\n",
      "RandomForestClassifier() = [0.88235294 0.94117647 0.88235294 0.9375     0.9375    ]\n",
      "AdaBoostClassifier() = [1. 1. 1. 1. 1.]\n",
      "GradientBoostingClassifier() = [1. 1. 1. 1. 1.]\n",
      "GaussianNB() = [0.82352941 0.58823529 0.88235294 0.75       0.6875    ]\n",
      "LinearDiscriminantAnalysis() = [0.76470588 0.82352941 0.82352941 0.875      0.6875    ]\n",
      "QuadraticDiscriminantAnalysis() = [0.64705882 0.58823529 0.64705882 0.5625     0.6875    ]\n"
     ]
    },
    {
     "name": "stderr",
     "output_type": "stream",
     "text": [
      "/home/vitalii/anaconda3/lib/python3.7/site-packages/sklearn/discriminant_analysis.py:715: UserWarning: Variables are collinear\n",
      "  warnings.warn(\"Variables are collinear\")\n",
      "/home/vitalii/anaconda3/lib/python3.7/site-packages/sklearn/discriminant_analysis.py:715: UserWarning: Variables are collinear\n",
      "  warnings.warn(\"Variables are collinear\")\n",
      "/home/vitalii/anaconda3/lib/python3.7/site-packages/sklearn/discriminant_analysis.py:715: UserWarning: Variables are collinear\n",
      "  warnings.warn(\"Variables are collinear\")\n",
      "/home/vitalii/anaconda3/lib/python3.7/site-packages/sklearn/discriminant_analysis.py:715: UserWarning: Variables are collinear\n",
      "  warnings.warn(\"Variables are collinear\")\n",
      "/home/vitalii/anaconda3/lib/python3.7/site-packages/sklearn/discriminant_analysis.py:715: UserWarning: Variables are collinear\n",
      "  warnings.warn(\"Variables are collinear\")\n",
      "/home/vitalii/anaconda3/lib/python3.7/site-packages/sklearn/discriminant_analysis.py:715: UserWarning: Variables are collinear\n",
      "  warnings.warn(\"Variables are collinear\")\n"
     ]
    },
    {
     "name": "stdout",
     "output_type": "stream",
     "text": [
      "LogisticRegression() = [0.82352941 0.82352941 0.88235294 0.875      0.8125    ]\n"
     ]
    },
    {
     "data": {
      "text/plain": [
       "<matplotlib.axes._subplots.AxesSubplot at 0x7fd41c155550>"
      ]
     },
     "execution_count": 8,
     "metadata": {},
     "output_type": "execute_result"
    },
    {
     "data": {
      "image/png": "[encoded data removed]",
      "text/plain": [
       "<Figure size 432x288 with 1 Axes>"
      ]
     },
     "metadata": {
      "needs_background": "light"
     },
     "output_type": "display_data"
    }
   ],
   "source": [
    "import matplotlib.pyplot as plt\n",
    "import seaborn as sns\n",
    "from sklearn.model_selection import cross_val_score\n",
    "\n",
    "from sklearn.model_selection import StratifiedShuffleSplit\n",
    "from sklearn.metrics import accuracy_score, log_loss\n",
    "from sklearn.neighbors import KNeighborsClassifier\n",
    "from sklearn.svm import SVC\n",
    "from sklearn.tree import DecisionTreeClassifier\n",
    "from sklearn.ensemble import RandomForestClassifier, AdaBoostClassifier, GradientBoostingClassifier\n",
    "from sklearn.naive_bayes import GaussianNB\n",
    "from sklearn.discriminant_analysis import LinearDiscriminantAnalysis, QuadraticDiscriminantAnalysis\n",
    "from sklearn.linear_model import LogisticRegression\n",
    "\n",
    "classifiers = [\n",
    "    KNeighborsClassifier(3),\n",
    "    SVC(probability=True),\n",
    "    DecisionTreeClassifier(),\n",
    "    RandomForestClassifier(),\n",
    "    AdaBoostClassifier(),\n",
    "    GradientBoostingClassifier(),\n",
    "    GaussianNB(),\n",
    "    LinearDiscriminantAnalysis(),\n",
    "    QuadraticDiscriminantAnalysis(),\n",
    "    LogisticRegression()\n",
    "]\n",
    "\n",
    "log_cols = [\"Classifier\", \"Accuracy\"]\n",
    "log = pd.DataFrame(columns=log_cols)\n",
    "\n",
    "acc_dict = {}\n",
    "\n",
    "for clf in classifiers:\n",
    "    name = clf.__class__.__name__\n",
    "    clf.fit(train_X, train_y)\n",
    "    train_predictions = clf.predict(test_X)\n",
    "    acc = accuracy_score(test_y, train_predictions)\n",
    "    \n",
    "    print(clf, '=', cross_val_score(clf, test_X, test_y, cv=5))\n",
    "    \n",
    "    if name in acc_dict:\n",
    "        acc_dict[name] += acc\n",
    "    else:\n",
    "        acc_dict[name] = acc\n",
    "\n",
    "for clf in acc_dict:\n",
    "    acc_dict[clf] = acc_dict[clf]\n",
    "    log_entry = pd.DataFrame([[clf, acc_dict[clf]]], columns = log_cols)\n",
    "    log = log.append(log_entry)\n",
    "\n",
    "plt.xlabel('Accuracy')\n",
    "plt.title('Classifier Accuracy')\n",
    "\n",
    "sns.set_color_codes(\"muted\")\n",
    "sns.barplot(x = 'Accuracy', y = 'Classifier', data = log, color = \"b\")"
   ]
  },
  {
   "cell_type": "code",
   "execution_count": 9,
   "metadata": {},
   "outputs": [
    {
     "data": {
      "text/plain": [
       "{'KNeighborsClassifier': 0.8795180722891566,\n",
       " 'SVC': 0.927710843373494,\n",
       " 'DecisionTreeClassifier': 0.7590361445783133,\n",
       " 'RandomForestClassifier': 0.8795180722891566,\n",
       " 'AdaBoostClassifier': 0.7469879518072289,\n",
       " 'GradientBoostingClassifier': 0.7590361445783133,\n",
       " 'GaussianNB': 0.6987951807228916,\n",
       " 'LinearDiscriminantAnalysis': 0.891566265060241,\n",
       " 'QuadraticDiscriminantAnalysis': 0.7228915662650602,\n",
       " 'LogisticRegression': 0.9397590361445783}"
      ]
     },
     "execution_count": 9,
     "metadata": {},
     "output_type": "execute_result"
    }
   ],
   "source": [
    "acc_dict"
   ]
  },
  {
   "cell_type": "code",
   "execution_count": 10,
   "metadata": {},
   "outputs": [
    {
     "name": "stdout",
     "output_type": "stream",
     "text": [
      "score= 0.927710843373494\n",
      "[[54  1  0]\n",
      " [ 1 17  4]\n",
      " [ 0  0  6]]\n"
     ]
    }
   ],
   "source": [
    "from sklearn.svm import SVC\n",
    "\n",
    "SVC = SVC(probability=True)\n",
    "SVC.fit(train_X, train_y)\n",
    "\n",
    "print('score=',SVC.score(test_X, test_y))\n",
    "y_pred = SVC.predict(test_X)\n",
    "\n",
    "from sklearn.metrics import confusion_matrix\n",
    "print(confusion_matrix(test_y, y_pred))"
   ]
  },
  {
   "cell_type": "code",
   "execution_count": null,
   "metadata": {},
   "outputs": [],
   "source": []
  }
 ],
 "metadata": {
  "kernelspec": {
   "display_name": "Python 3",
   "language": "python",
   "name": "python3"
  },
  "language_info": {
   "codemirror_mode": {
    "name": "ipython",
    "version": 3
   },
   "file_extension": ".py",
   "mimetype": "text/x-python",
   "name": "python",
   "nbconvert_exporter": "python",
   "pygments_lexer": "ipython3",
   "version": "3.7.6"
  }
 },
 "nbformat": 4,
 "nbformat_minor": 4
}
