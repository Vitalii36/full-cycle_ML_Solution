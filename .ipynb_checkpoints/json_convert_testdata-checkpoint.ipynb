{
 "cells": [
  {
   "cell_type": "code",
   "execution_count": 3,
   "metadata": {},
   "outputs": [],
   "source": [
    "import pandas as pd\n",
    "import numpy as np"
   ]
  },
  {
   "cell_type": "code",
   "execution_count": 4,
   "metadata": {},
   "outputs": [
    {
     "data": {
      "text/html": [
       "<div>\n",
       "<style scoped>\n",
       "    .dataframe tbody tr th:only-of-type {\n",
       "        vertical-align: middle;\n",
       "    }\n",
       "\n",
       "    .dataframe tbody tr th {\n",
       "        vertical-align: top;\n",
       "    }\n",
       "\n",
       "    .dataframe thead th {\n",
       "        text-align: right;\n",
       "    }\n",
       "</style>\n",
       "<table border=\"1\" class=\"dataframe\">\n",
       "  <thead>\n",
       "    <tr style=\"text-align: right;\">\n",
       "      <th></th>\n",
       "      <th>year</th>\n",
       "      <th>period</th>\n",
       "      <th>company_name</th>\n",
       "      <th>company_code</th>\n",
       "      <th>company_type</th>\n",
       "      <th>company_status</th>\n",
       "      <th>salary_debt_changes</th>\n",
       "      <th>salary_debt_mark</th>\n",
       "      <th>salary_average_changes</th>\n",
       "      <th>salary_average_mark</th>\n",
       "      <th>...</th>\n",
       "      <th>firmness_coefficient_end</th>\n",
       "      <th>firmness_coefficient_mark</th>\n",
       "      <th>solvency_coefficient_end</th>\n",
       "      <th>solvency_coefficient_mark</th>\n",
       "      <th>amortization_end</th>\n",
       "      <th>amortization_mark</th>\n",
       "      <th>audition_result</th>\n",
       "      <th>audition_mark</th>\n",
       "      <th>total_mark</th>\n",
       "      <th>final_assessment</th>\n",
       "    </tr>\n",
       "  </thead>\n",
       "  <tbody>\n",
       "    <tr>\n",
       "      <th>0</th>\n",
       "      <td>2019</td>\n",
       "      <td>12</td>\n",
       "      <td>ДЕРЖАВНЕ ПІДПРИЄМСТВО \"КИЇВСЬКИЙ ІНСТИТУТ ІНЖЕ...</td>\n",
       "      <td>113968</td>\n",
       "      <td>ДП</td>\n",
       "      <td>працює</td>\n",
       "      <td>0.0</td>\n",
       "      <td>2.0</td>\n",
       "      <td>109.3</td>\n",
       "      <td>1.0</td>\n",
       "      <td>...</td>\n",
       "      <td>1.21</td>\n",
       "      <td>1.0</td>\n",
       "      <td>0.55</td>\n",
       "      <td>1.0</td>\n",
       "      <td>83.11</td>\n",
       "      <td>0.0</td>\n",
       "      <td>NaN</td>\n",
       "      <td>0.0</td>\n",
       "      <td>9.0</td>\n",
       "      <td>задовільна</td>\n",
       "    </tr>\n",
       "    <tr>\n",
       "      <th>1</th>\n",
       "      <td>2019</td>\n",
       "      <td>12</td>\n",
       "      <td>Державний Проектно-Вишукувальний та Науково-До...</td>\n",
       "      <td>114092</td>\n",
       "      <td>ДП</td>\n",
       "      <td>працює; звітність не надано</td>\n",
       "      <td>NaN</td>\n",
       "      <td>NaN</td>\n",
       "      <td>NaN</td>\n",
       "      <td>NaN</td>\n",
       "      <td>...</td>\n",
       "      <td>NaN</td>\n",
       "      <td>NaN</td>\n",
       "      <td>NaN</td>\n",
       "      <td>NaN</td>\n",
       "      <td>NaN</td>\n",
       "      <td>NaN</td>\n",
       "      <td>NaN</td>\n",
       "      <td>NaN</td>\n",
       "      <td>0.0</td>\n",
       "      <td>неефективна</td>\n",
       "    </tr>\n",
       "    <tr>\n",
       "      <th>2</th>\n",
       "      <td>2019</td>\n",
       "      <td>12</td>\n",
       "      <td>Державне підприємство \"Львівське конструкторсь...</td>\n",
       "      <td>130044</td>\n",
       "      <td>ДП</td>\n",
       "      <td>працює</td>\n",
       "      <td>0.0</td>\n",
       "      <td>2.0</td>\n",
       "      <td>127.3</td>\n",
       "      <td>1.0</td>\n",
       "      <td>...</td>\n",
       "      <td>0.86</td>\n",
       "      <td>0.0</td>\n",
       "      <td>0.46</td>\n",
       "      <td>0.0</td>\n",
       "      <td>51.17</td>\n",
       "      <td>1.0</td>\n",
       "      <td>NaN</td>\n",
       "      <td>0.0</td>\n",
       "      <td>11.0</td>\n",
       "      <td>задовільна</td>\n",
       "    </tr>\n",
       "    <tr>\n",
       "      <th>3</th>\n",
       "      <td>2019</td>\n",
       "      <td>12</td>\n",
       "      <td>ДЕРЖАВНЕ ПІДПРИЄМСТВО \"НАУКОВО-ДОСЛІДНИЙ ІНСТИ...</td>\n",
       "      <td>130441</td>\n",
       "      <td>ДП</td>\n",
       "      <td>працює; перебуває у процедурі банкрутства - ро...</td>\n",
       "      <td>0.0</td>\n",
       "      <td>2.0</td>\n",
       "      <td>0.0</td>\n",
       "      <td>0.0</td>\n",
       "      <td>...</td>\n",
       "      <td>-0.46</td>\n",
       "      <td>0.0</td>\n",
       "      <td>-0.87</td>\n",
       "      <td>0.0</td>\n",
       "      <td>84.28</td>\n",
       "      <td>0.0</td>\n",
       "      <td>NaN</td>\n",
       "      <td>0.0</td>\n",
       "      <td>5.0</td>\n",
       "      <td>неефективна</td>\n",
       "    </tr>\n",
       "    <tr>\n",
       "      <th>4</th>\n",
       "      <td>2019</td>\n",
       "      <td>12</td>\n",
       "      <td>ДП \"ПУГР\"</td>\n",
       "      <td>147921</td>\n",
       "      <td>ДП</td>\n",
       "      <td>працює</td>\n",
       "      <td>0.0</td>\n",
       "      <td>2.0</td>\n",
       "      <td>100.8</td>\n",
       "      <td>1.0</td>\n",
       "      <td>...</td>\n",
       "      <td>2.92</td>\n",
       "      <td>1.0</td>\n",
       "      <td>0.74</td>\n",
       "      <td>1.0</td>\n",
       "      <td>95.19</td>\n",
       "      <td>0.0</td>\n",
       "      <td>NaN</td>\n",
       "      <td>0.0</td>\n",
       "      <td>8.0</td>\n",
       "      <td>неефективна</td>\n",
       "    </tr>\n",
       "  </tbody>\n",
       "</table>\n",
       "<p>5 rows × 34 columns</p>\n",
       "</div>"
      ],
      "text/plain": [
       "   year  period                                       company_name  \\\n",
       "0  2019      12  ДЕРЖАВНЕ ПІДПРИЄМСТВО \"КИЇВСЬКИЙ ІНСТИТУТ ІНЖЕ...   \n",
       "1  2019      12  Державний Проектно-Вишукувальний та Науково-До...   \n",
       "2  2019      12  Державне підприємство \"Львівське конструкторсь...   \n",
       "3  2019      12  ДЕРЖАВНЕ ПІДПРИЄМСТВО \"НАУКОВО-ДОСЛІДНИЙ ІНСТИ...   \n",
       "4  2019      12                                          ДП \"ПУГР\"   \n",
       "\n",
       "   company_code company_type  \\\n",
       "0        113968           ДП   \n",
       "1        114092           ДП   \n",
       "2        130044           ДП   \n",
       "3        130441           ДП   \n",
       "4        147921           ДП   \n",
       "\n",
       "                                      company_status  salary_debt_changes  \\\n",
       "0                                             працює                  0.0   \n",
       "1                        працює; звітність не надано                  NaN   \n",
       "2                                             працює                  0.0   \n",
       "3  працює; перебуває у процедурі банкрутства - ро...                  0.0   \n",
       "4                                             працює                  0.0   \n",
       "\n",
       "   salary_debt_mark  salary_average_changes  salary_average_mark  ...  \\\n",
       "0               2.0                   109.3                  1.0  ...   \n",
       "1               NaN                     NaN                  NaN  ...   \n",
       "2               2.0                   127.3                  1.0  ...   \n",
       "3               2.0                     0.0                  0.0  ...   \n",
       "4               2.0                   100.8                  1.0  ...   \n",
       "\n",
       "   firmness_coefficient_end  firmness_coefficient_mark  \\\n",
       "0                      1.21                        1.0   \n",
       "1                       NaN                        NaN   \n",
       "2                      0.86                        0.0   \n",
       "3                     -0.46                        0.0   \n",
       "4                      2.92                        1.0   \n",
       "\n",
       "   solvency_coefficient_end  solvency_coefficient_mark  amortization_end  \\\n",
       "0                      0.55                        1.0             83.11   \n",
       "1                       NaN                        NaN               NaN   \n",
       "2                      0.46                        0.0             51.17   \n",
       "3                     -0.87                        0.0             84.28   \n",
       "4                      0.74                        1.0             95.19   \n",
       "\n",
       "   amortization_mark  audition_result  audition_mark  total_mark  \\\n",
       "0                0.0              NaN            0.0         9.0   \n",
       "1                NaN              NaN            NaN         0.0   \n",
       "2                1.0              NaN            0.0        11.0   \n",
       "3                0.0              NaN            0.0         5.0   \n",
       "4                0.0              NaN            0.0         8.0   \n",
       "\n",
       "   final_assessment  \n",
       "0        задовільна  \n",
       "1       неефективна  \n",
       "2        задовільна  \n",
       "3       неефективна  \n",
       "4       неефективна  \n",
       "\n",
       "[5 rows x 34 columns]"
      ]
     },
     "execution_count": 4,
     "metadata": {},
     "output_type": "execute_result"
    }
   ],
   "source": [
    "val = pd.read_csv('Data/test.csv', header = 0)\n",
    "val.head()"
   ]
  },
  {
   "cell_type": "code",
   "execution_count": 5,
   "metadata": {},
   "outputs": [
    {
     "data": {
      "text/html": [
       "<div>\n",
       "<style scoped>\n",
       "    .dataframe tbody tr th:only-of-type {\n",
       "        vertical-align: middle;\n",
       "    }\n",
       "\n",
       "    .dataframe tbody tr th {\n",
       "        vertical-align: top;\n",
       "    }\n",
       "\n",
       "    .dataframe thead th {\n",
       "        text-align: right;\n",
       "    }\n",
       "</style>\n",
       "<table border=\"1\" class=\"dataframe\">\n",
       "  <thead>\n",
       "    <tr style=\"text-align: right;\">\n",
       "      <th></th>\n",
       "      <th>final_assessment</th>\n",
       "    </tr>\n",
       "  </thead>\n",
       "  <tbody>\n",
       "  </tbody>\n",
       "</table>\n",
       "</div>"
      ],
      "text/plain": [
       "Empty DataFrame\n",
       "Columns: [final_assessment]\n",
       "Index: []"
      ]
     },
     "execution_count": 5,
     "metadata": {},
     "output_type": "execute_result"
    }
   ],
   "source": [
    "val.iloc[150:155, 33:34]"
   ]
  },
  {
   "cell_type": "code",
   "execution_count": 6,
   "metadata": {},
   "outputs": [
    {
     "data": {
      "text/plain": [
       "{'prediction': [0, 1, 1, 0, 0, 0, 0, 0, 1, 0, 1]}"
      ]
     },
     "execution_count": 6,
     "metadata": {},
     "output_type": "execute_result"
    }
   ],
   "source": [
    "{\n",
    "  \"prediction\": [\n",
    "    0,\n",
    "    1,\n",
    "    1,\n",
    "    0,\n",
    "    0,\n",
    "    0,\n",
    "    0,\n",
    "    0,\n",
    "    1,\n",
    "    0,\n",
    "    1\n",
    "  ]\n",
    "}"
   ]
  },
  {
   "cell_type": "code",
   "execution_count": 7,
   "metadata": {},
   "outputs": [],
   "source": [
    "val = val.drop(['final_assessment'], axis=1)"
   ]
  },
  {
   "cell_type": "code",
   "execution_count": 8,
   "metadata": {},
   "outputs": [],
   "source": [
    "val = val.iloc[150:155,:]"
   ]
  },
  {
   "cell_type": "code",
   "execution_count": 9,
   "metadata": {},
   "outputs": [],
   "source": [
    "v = val.to_json()"
   ]
  },
  {
   "cell_type": "code",
   "execution_count": 10,
   "metadata": {},
   "outputs": [
    {
     "data": {
      "text/plain": [
       "'{\"year\":{},\"period\":{},\"company_name\":{},\"company_code\":{},\"company_type\":{},\"company_status\":{},\"salary_debt_changes\":{},\"salary_debt_mark\":{},\"salary_average_changes\":{},\"salary_average_mark\":{},\"financial_outturn_sales_percent\":{},\"financial_outturn_sales_mark\":{},\"financial_outturn_profit_percent\":{},\"financial_outturn_profit_mark\":{},\"financial_outturn_revenue_to_budget_percent\":{},\"financial_outturn_revenue_to_budget_mark\":{},\"financial_outturn_revenue_to_state_shareholder_percent\":{},\"financial_outturn_revenue_to_state_shareholder_mark\":{},\"financial_outturn_capital_investments_percent\":{},\"financial_outturn_capital_investments_mark\":{},\"profit_changes\":{},\"profit_mark\":{},\"covering_coefficient_end\":{},\"covering_coefficient_mark\":{},\"firmness_coefficient_end\":{},\"firmness_coefficient_mark\":{},\"solvency_coefficient_end\":{},\"solvency_coefficient_mark\":{},\"amortization_end\":{},\"amortization_mark\":{},\"audition_result\":{},\"audition_mark\":{},\"total_mark\":{}}'"
      ]
     },
     "execution_count": 10,
     "metadata": {},
     "output_type": "execute_result"
    }
   ],
   "source": [
    "v"
   ]
  },
  {
   "cell_type": "code",
   "execution_count": null,
   "metadata": {},
   "outputs": [],
   "source": []
  }
 ],
 "metadata": {
  "kernelspec": {
   "display_name": "Python 3",
   "language": "python",
   "name": "python3"
  },
  "language_info": {
   "codemirror_mode": {
    "name": "ipython",
    "version": 3
   },
   "file_extension": ".py",
   "mimetype": "text/x-python",
   "name": "python",
   "nbconvert_exporter": "python",
   "pygments_lexer": "ipython3",
   "version": "3.7.6"
  }
 },
 "nbformat": 4,
 "nbformat_minor": 4
}
