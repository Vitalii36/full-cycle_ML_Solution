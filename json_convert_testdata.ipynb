{
 "cells": [
  {
   "cell_type": "code",
   "execution_count": 1,
   "metadata": {},
   "outputs": [],
   "source": [
    "import pandas as pd\n",
    "import numpy as np\n",
    "import re"
   ]
  },
  {
   "cell_type": "code",
   "execution_count": 2,
   "metadata": {},
   "outputs": [
    {
     "data": {
      "text/html": [
       "<div>\n",
       "<style scoped>\n",
       "    .dataframe tbody tr th:only-of-type {\n",
       "        vertical-align: middle;\n",
       "    }\n",
       "\n",
       "    .dataframe tbody tr th {\n",
       "        vertical-align: top;\n",
       "    }\n",
       "\n",
       "    .dataframe thead th {\n",
       "        text-align: right;\n",
       "    }\n",
       "</style>\n",
       "<table border=\"1\" class=\"dataframe\">\n",
       "  <thead>\n",
       "    <tr style=\"text-align: right;\">\n",
       "      <th></th>\n",
       "      <th>year</th>\n",
       "      <th>period</th>\n",
       "      <th>company_name</th>\n",
       "      <th>company_code</th>\n",
       "      <th>company_type</th>\n",
       "      <th>company_status</th>\n",
       "      <th>salary_debt_changes</th>\n",
       "      <th>salary_debt_mark</th>\n",
       "      <th>salary_average_changes</th>\n",
       "      <th>salary_average_mark</th>\n",
       "      <th>...</th>\n",
       "      <th>firmness_coefficient_end</th>\n",
       "      <th>firmness_coefficient_mark</th>\n",
       "      <th>solvency_coefficient_end</th>\n",
       "      <th>solvency_coefficient_mark</th>\n",
       "      <th>amortization_end</th>\n",
       "      <th>amortization_mark</th>\n",
       "      <th>audition_result</th>\n",
       "      <th>audition_mark</th>\n",
       "      <th>total_mark</th>\n",
       "      <th>final_assessment</th>\n",
       "    </tr>\n",
       "  </thead>\n",
       "  <tbody>\n",
       "    <tr>\n",
       "      <th>0</th>\n",
       "      <td>2019</td>\n",
       "      <td>12</td>\n",
       "      <td>ДЕРЖАВНЕ ПІДПРИЄМСТВО \"КИЇВСЬКИЙ ІНСТИТУТ ІНЖЕ...</td>\n",
       "      <td>113968</td>\n",
       "      <td>ДП</td>\n",
       "      <td>працює</td>\n",
       "      <td>0.0</td>\n",
       "      <td>2.0</td>\n",
       "      <td>109.3</td>\n",
       "      <td>1.0</td>\n",
       "      <td>...</td>\n",
       "      <td>1.21</td>\n",
       "      <td>1.0</td>\n",
       "      <td>0.55</td>\n",
       "      <td>1.0</td>\n",
       "      <td>83.11</td>\n",
       "      <td>0.0</td>\n",
       "      <td>NaN</td>\n",
       "      <td>0.0</td>\n",
       "      <td>9.0</td>\n",
       "      <td>задовільна</td>\n",
       "    </tr>\n",
       "    <tr>\n",
       "      <th>1</th>\n",
       "      <td>2019</td>\n",
       "      <td>12</td>\n",
       "      <td>Державний Проектно-Вишукувальний та Науково-До...</td>\n",
       "      <td>114092</td>\n",
       "      <td>ДП</td>\n",
       "      <td>працює; звітність не надано</td>\n",
       "      <td>NaN</td>\n",
       "      <td>NaN</td>\n",
       "      <td>NaN</td>\n",
       "      <td>NaN</td>\n",
       "      <td>...</td>\n",
       "      <td>NaN</td>\n",
       "      <td>NaN</td>\n",
       "      <td>NaN</td>\n",
       "      <td>NaN</td>\n",
       "      <td>NaN</td>\n",
       "      <td>NaN</td>\n",
       "      <td>NaN</td>\n",
       "      <td>NaN</td>\n",
       "      <td>0.0</td>\n",
       "      <td>неефективна</td>\n",
       "    </tr>\n",
       "    <tr>\n",
       "      <th>2</th>\n",
       "      <td>2019</td>\n",
       "      <td>12</td>\n",
       "      <td>Державне підприємство \"Львівське конструкторсь...</td>\n",
       "      <td>130044</td>\n",
       "      <td>ДП</td>\n",
       "      <td>працює</td>\n",
       "      <td>0.0</td>\n",
       "      <td>2.0</td>\n",
       "      <td>127.3</td>\n",
       "      <td>1.0</td>\n",
       "      <td>...</td>\n",
       "      <td>0.86</td>\n",
       "      <td>0.0</td>\n",
       "      <td>0.46</td>\n",
       "      <td>0.0</td>\n",
       "      <td>51.17</td>\n",
       "      <td>1.0</td>\n",
       "      <td>NaN</td>\n",
       "      <td>0.0</td>\n",
       "      <td>11.0</td>\n",
       "      <td>задовільна</td>\n",
       "    </tr>\n",
       "    <tr>\n",
       "      <th>3</th>\n",
       "      <td>2019</td>\n",
       "      <td>12</td>\n",
       "      <td>ДЕРЖАВНЕ ПІДПРИЄМСТВО \"НАУКОВО-ДОСЛІДНИЙ ІНСТИ...</td>\n",
       "      <td>130441</td>\n",
       "      <td>ДП</td>\n",
       "      <td>працює; перебуває у процедурі банкрутства - ро...</td>\n",
       "      <td>0.0</td>\n",
       "      <td>2.0</td>\n",
       "      <td>0.0</td>\n",
       "      <td>0.0</td>\n",
       "      <td>...</td>\n",
       "      <td>-0.46</td>\n",
       "      <td>0.0</td>\n",
       "      <td>-0.87</td>\n",
       "      <td>0.0</td>\n",
       "      <td>84.28</td>\n",
       "      <td>0.0</td>\n",
       "      <td>NaN</td>\n",
       "      <td>0.0</td>\n",
       "      <td>5.0</td>\n",
       "      <td>неефективна</td>\n",
       "    </tr>\n",
       "    <tr>\n",
       "      <th>4</th>\n",
       "      <td>2019</td>\n",
       "      <td>12</td>\n",
       "      <td>ДП \"ПУГР\"</td>\n",
       "      <td>147921</td>\n",
       "      <td>ДП</td>\n",
       "      <td>працює</td>\n",
       "      <td>0.0</td>\n",
       "      <td>2.0</td>\n",
       "      <td>100.8</td>\n",
       "      <td>1.0</td>\n",
       "      <td>...</td>\n",
       "      <td>2.92</td>\n",
       "      <td>1.0</td>\n",
       "      <td>0.74</td>\n",
       "      <td>1.0</td>\n",
       "      <td>95.19</td>\n",
       "      <td>0.0</td>\n",
       "      <td>NaN</td>\n",
       "      <td>0.0</td>\n",
       "      <td>8.0</td>\n",
       "      <td>неефективна</td>\n",
       "    </tr>\n",
       "  </tbody>\n",
       "</table>\n",
       "<p>5 rows × 34 columns</p>\n",
       "</div>"
      ],
      "text/plain": [
       "   year  period                                       company_name  \\\n",
       "0  2019      12  ДЕРЖАВНЕ ПІДПРИЄМСТВО \"КИЇВСЬКИЙ ІНСТИТУТ ІНЖЕ...   \n",
       "1  2019      12  Державний Проектно-Вишукувальний та Науково-До...   \n",
       "2  2019      12  Державне підприємство \"Львівське конструкторсь...   \n",
       "3  2019      12  ДЕРЖАВНЕ ПІДПРИЄМСТВО \"НАУКОВО-ДОСЛІДНИЙ ІНСТИ...   \n",
       "4  2019      12                                          ДП \"ПУГР\"   \n",
       "\n",
       "   company_code company_type  \\\n",
       "0        113968           ДП   \n",
       "1        114092           ДП   \n",
       "2        130044           ДП   \n",
       "3        130441           ДП   \n",
       "4        147921           ДП   \n",
       "\n",
       "                                      company_status  salary_debt_changes  \\\n",
       "0                                             працює                  0.0   \n",
       "1                        працює; звітність не надано                  NaN   \n",
       "2                                             працює                  0.0   \n",
       "3  працює; перебуває у процедурі банкрутства - ро...                  0.0   \n",
       "4                                             працює                  0.0   \n",
       "\n",
       "   salary_debt_mark  salary_average_changes  salary_average_mark  ...  \\\n",
       "0               2.0                   109.3                  1.0  ...   \n",
       "1               NaN                     NaN                  NaN  ...   \n",
       "2               2.0                   127.3                  1.0  ...   \n",
       "3               2.0                     0.0                  0.0  ...   \n",
       "4               2.0                   100.8                  1.0  ...   \n",
       "\n",
       "   firmness_coefficient_end  firmness_coefficient_mark  \\\n",
       "0                      1.21                        1.0   \n",
       "1                       NaN                        NaN   \n",
       "2                      0.86                        0.0   \n",
       "3                     -0.46                        0.0   \n",
       "4                      2.92                        1.0   \n",
       "\n",
       "   solvency_coefficient_end  solvency_coefficient_mark  amortization_end  \\\n",
       "0                      0.55                        1.0             83.11   \n",
       "1                       NaN                        NaN               NaN   \n",
       "2                      0.46                        0.0             51.17   \n",
       "3                     -0.87                        0.0             84.28   \n",
       "4                      0.74                        1.0             95.19   \n",
       "\n",
       "   amortization_mark  audition_result  audition_mark  total_mark  \\\n",
       "0                0.0              NaN            0.0         9.0   \n",
       "1                NaN              NaN            NaN         0.0   \n",
       "2                1.0              NaN            0.0        11.0   \n",
       "3                0.0              NaN            0.0         5.0   \n",
       "4                0.0              NaN            0.0         8.0   \n",
       "\n",
       "   final_assessment  \n",
       "0        задовільна  \n",
       "1       неефективна  \n",
       "2        задовільна  \n",
       "3       неефективна  \n",
       "4       неефективна  \n",
       "\n",
       "[5 rows x 34 columns]"
      ]
     },
     "execution_count": 2,
     "metadata": {},
     "output_type": "execute_result"
    }
   ],
   "source": [
    "val = pd.read_csv('Data/test.csv', header = 0)\n",
    "val.head()"
   ]
  },
  {
   "cell_type": "code",
   "execution_count": 3,
   "metadata": {},
   "outputs": [
    {
     "data": {
      "text/html": [
       "<div>\n",
       "<style scoped>\n",
       "    .dataframe tbody tr th:only-of-type {\n",
       "        vertical-align: middle;\n",
       "    }\n",
       "\n",
       "    .dataframe tbody tr th {\n",
       "        vertical-align: top;\n",
       "    }\n",
       "\n",
       "    .dataframe thead th {\n",
       "        text-align: right;\n",
       "    }\n",
       "</style>\n",
       "<table border=\"1\" class=\"dataframe\">\n",
       "  <thead>\n",
       "    <tr style=\"text-align: right;\">\n",
       "      <th></th>\n",
       "      <th>final_assessment</th>\n",
       "    </tr>\n",
       "  </thead>\n",
       "  <tbody>\n",
       "    <tr>\n",
       "      <th>50</th>\n",
       "      <td>неефективна</td>\n",
       "    </tr>\n",
       "    <tr>\n",
       "      <th>51</th>\n",
       "      <td>неефективна</td>\n",
       "    </tr>\n",
       "    <tr>\n",
       "      <th>52</th>\n",
       "      <td>неефективна</td>\n",
       "    </tr>\n",
       "    <tr>\n",
       "      <th>53</th>\n",
       "      <td>задовільна</td>\n",
       "    </tr>\n",
       "    <tr>\n",
       "      <th>54</th>\n",
       "      <td>неефективна</td>\n",
       "    </tr>\n",
       "  </tbody>\n",
       "</table>\n",
       "</div>"
      ],
      "text/plain": [
       "   final_assessment\n",
       "50      неефективна\n",
       "51      неефективна\n",
       "52      неефективна\n",
       "53       задовільна\n",
       "54      неефективна"
      ]
     },
     "execution_count": 3,
     "metadata": {},
     "output_type": "execute_result"
    }
   ],
   "source": [
    "val.iloc[50:55, 33:34]"
   ]
  },
  {
   "cell_type": "code",
   "execution_count": 4,
   "metadata": {},
   "outputs": [],
   "source": [
    "val = val.drop(['final_assessment'], axis=1)"
   ]
  },
  {
   "cell_type": "code",
   "execution_count": 5,
   "metadata": {},
   "outputs": [],
   "source": [
    "val = val.iloc[50:55,:]"
   ]
  },
  {
   "cell_type": "code",
   "execution_count": 6,
   "metadata": {},
   "outputs": [
    {
     "data": {
      "text/plain": [
       "5"
      ]
     },
     "execution_count": 6,
     "metadata": {},
     "output_type": "execute_result"
    }
   ],
   "source": [
    "len(val['company_name'])"
   ]
  },
  {
   "cell_type": "code",
   "execution_count": 7,
   "metadata": {},
   "outputs": [
    {
     "name": "stderr",
     "output_type": "stream",
     "text": [
      "/home/vitalii/anaconda3/lib/python3.7/site-packages/pandas/core/indexing.py:670: SettingWithCopyWarning: \n",
      "A value is trying to be set on a copy of a slice from a DataFrame\n",
      "\n",
      "See the caveats in the documentation: https://pandas.pydata.org/pandas-docs/stable/user_guide/indexing.html#returning-a-view-versus-a-copy\n",
      "  self._setitem_with_indexer(indexer, value)\n"
     ]
    }
   ],
   "source": [
    "for i in range(len(val.company_name)):\n",
    "\n",
    "    val.company_name.iloc[i] = re.sub('\"', '', val.company_name.iloc[i], count=0)"
   ]
  },
  {
   "cell_type": "code",
   "execution_count": 8,
   "metadata": {},
   "outputs": [],
   "source": [
    "v = val.to_json(force_ascii=False)"
   ]
  },
  {
   "cell_type": "code",
   "execution_count": 9,
   "metadata": {},
   "outputs": [
    {
     "data": {
      "text/plain": [
       "'{\"year\":{\"50\":2019,\"51\":2019,\"52\":2019,\"53\":2019,\"54\":2019},\"period\":{\"50\":12,\"51\":12,\"52\":12,\"53\":12,\"54\":12},\"company_name\":{\"50\":\"Державне підприємство Волиньвугілля\",\"51\":\"ДП Регіональні електричні мережі\",\"52\":\"ДЕРЖАВНЕ ПІДПРИЄМСТВО УКРШАХТГІДРОЗАХИСТ\",\"53\":\"Державне підприємство 38 відділ інженерно-технічних частин\",\"54\":\"Державне підприємство Українські екологічні інвестиції\"},\"company_code\":{\"50\":32365965,\"51\":32402870,\"52\":32442405,\"53\":33127487,\"54\":33312212},\"company_type\":{\"50\":\"ДП\",\"51\":\"ДП\",\"52\":\"ДП\",\"53\":\"ДП\",\"54\":\"ДП\"},\"company_status\":{\"50\":\"працює; перебуває у процедурі реорганізації\",\"51\":\"працює; перебуває у процедурі банкрутства - розпорядження майном\",\"52\":\"працює; перебуває у процедурі реорганізації\",\"53\":\"працює\",\"54\":\"працює\"},\"salary_debt_changes\":{\"50\":222.7,\"51\":54.1,\"52\":100.0,\"53\":0.0,\"54\":null},\"salary_debt_mark\":{\"50\":0.0,\"51\":1.0,\"52\":0.0,\"53\":2.0,\"54\":null},\"salary_average_changes\":{\"50\":120.7,\"51\":110.9,\"52\":111.4,\"53\":123.3,\"54\":null},\"salary_average_mark\":{\"50\":1.0,\"51\":1.0,\"52\":1.0,\"53\":1.0,\"54\":null},\"financial_outturn_sales_percent\":{\"50\":31.1,\"51\":101.5,\"52\":0.0,\"53\":136.7,\"54\":null},\"financial_outturn_sales_mark\":{\"50\":0.0,\"51\":1.0,\"52\":0.0,\"53\":1.0,\"54\":null},\"financial_outturn_profit_percent\":{\"50\":0.0,\"51\":0.0,\"52\":0.0,\"53\":112.0,\"54\":null},\"financial_outturn_profit_mark\":{\"50\":0.0,\"51\":0.0,\"52\":0.0,\"53\":1.0,\"54\":null},\"financial_outturn_revenue_to_budget_percent\":{\"50\":34.6,\"51\":0.0,\"52\":0.0,\"53\":184.0,\"54\":null},\"financial_outturn_revenue_to_budget_mark\":{\"50\":0.0,\"51\":0.0,\"52\":0.0,\"53\":1.0,\"54\":null},\"financial_outturn_revenue_to_state_shareholder_percent\":{\"50\":0.0,\"51\":0.0,\"52\":0.0,\"53\":0.0,\"54\":null},\"financial_outturn_revenue_to_state_shareholder_mark\":{\"50\":0.0,\"51\":0.0,\"52\":0.0,\"53\":0.0,\"54\":null},\"financial_outturn_capital_investments_percent\":{\"50\":96.6,\"51\":39.3,\"52\":0.0,\"53\":361.4,\"54\":null},\"financial_outturn_capital_investments_mark\":{\"50\":0.0,\"51\":0.0,\"52\":0.0,\"53\":1.0,\"54\":null},\"profit_changes\":{\"50\":152.0,\"51\":439.0,\"52\":16.0,\"53\":273.5,\"54\":null},\"profit_mark\":{\"50\":0.0,\"51\":0.0,\"52\":3.0,\"53\":5.0,\"54\":null},\"covering_coefficient_end\":{\"50\":0.04,\"51\":0.76,\"52\":0.01,\"53\":1.31,\"54\":null},\"covering_coefficient_mark\":{\"50\":0.0,\"51\":0.0,\"52\":0.0,\"53\":1.0,\"54\":null},\"firmness_coefficient_end\":{\"50\":-0.93,\"51\":-0.19,\"52\":-0.82,\"53\":0.27,\"54\":null},\"firmness_coefficient_mark\":{\"50\":0.0,\"51\":0.0,\"52\":0.0,\"53\":0.0,\"54\":null},\"solvency_coefficient_end\":{\"50\":-9.18,\"51\":-0.24,\"52\":-2.1,\"53\":0.07,\"54\":null},\"solvency_coefficient_mark\":{\"50\":0.0,\"51\":0.0,\"52\":0.0,\"53\":0.0,\"54\":null},\"amortization_end\":{\"50\":88.01,\"51\":94.83,\"52\":47.78,\"53\":71.92,\"54\":null},\"amortization_mark\":{\"50\":0.0,\"51\":0.0,\"52\":1.0,\"53\":0.0,\"54\":null},\"audition_result\":{\"50\":null,\"51\":null,\"52\":null,\"53\":null,\"54\":null},\"audition_mark\":{\"50\":0.0,\"51\":0.0,\"52\":0.0,\"53\":0.0,\"54\":null},\"total_mark\":{\"50\":1.0,\"51\":3.0,\"52\":5.0,\"53\":13.0,\"54\":0.0}}'"
      ]
     },
     "execution_count": 9,
     "metadata": {},
     "output_type": "execute_result"
    }
   ],
   "source": [
    "v"
   ]
  },
  {
   "cell_type": "code",
   "execution_count": null,
   "metadata": {},
   "outputs": [],
   "source": []
  }
 ],
 "metadata": {
  "kernelspec": {
   "display_name": "Python 3",
   "language": "python",
   "name": "python3"
  },
  "language_info": {
   "codemirror_mode": {
    "name": "ipython",
    "version": 3
   },
   "file_extension": ".py",
   "mimetype": "text/x-python",
   "name": "python",
   "nbconvert_exporter": "python",
   "pygments_lexer": "ipython3",
   "version": "3.7.6"
  }
 },
 "nbformat": 4,
 "nbformat_minor": 4
}
